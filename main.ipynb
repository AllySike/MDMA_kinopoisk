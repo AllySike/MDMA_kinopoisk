{
 "cells": [
  {
   "cell_type": "code",
   "execution_count": 1,
   "metadata": {
    "executionInfo": {
     "elapsed": 441,
     "status": "ok",
     "timestamp": 1664378674945,
     "user": {
      "displayName": "Марина Немцова",
      "userId": "01343982776870118760"
     },
     "user_tz": -180
    },
    "id": "v4RdV_NJsf_G"
   },
   "outputs": [
    {
     "name": "stdout",
     "output_type": "stream",
     "text": [
      "Requirement already satisfied: bstrap in c:\\users\\mn111\\anaconda3\\lib\\site-packages (0.0.9)\n"
     ]
    }
   ],
   "source": [
    "import pandas as pd\n",
    "import scipy.stats as st\n",
    "import numpy as np\n",
    "!pip install bstrap\n",
    "from bstrap import bootstrap"
   ]
  },
  {
   "cell_type": "code",
   "execution_count": 2,
   "metadata": {
    "colab": {
     "base_uri": "https://localhost:8080/",
     "height": 311
    },
    "executionInfo": {
     "elapsed": 401,
     "status": "error",
     "timestamp": 1664378700844,
     "user": {
      "displayName": "Марина Немцова",
      "userId": "01343982776870118760"
     },
     "user_tz": -180
    },
    "id": "oSmg038ysksU",
    "outputId": "5ccbff96-4448-45d6-c05d-f8665a9b8d40"
   },
   "outputs": [
    {
     "data": {
      "text/html": [
       "<div>\n",
       "<style scoped>\n",
       "    .dataframe tbody tr th:only-of-type {\n",
       "        vertical-align: middle;\n",
       "    }\n",
       "\n",
       "    .dataframe tbody tr th {\n",
       "        vertical-align: top;\n",
       "    }\n",
       "\n",
       "    .dataframe thead th {\n",
       "        text-align: right;\n",
       "    }\n",
       "</style>\n",
       "<table border=\"1\" class=\"dataframe\">\n",
       "  <thead>\n",
       "    <tr style=\"text-align: right;\">\n",
       "      <th></th>\n",
       "      <th>num</th>\n",
       "      <th>name_rus</th>\n",
       "      <th>rating_new</th>\n",
       "      <th>origin</th>\n",
       "      <th>genre</th>\n",
       "      <th>rating_old</th>\n",
       "      <th>qty_views</th>\n",
       "    </tr>\n",
       "  </thead>\n",
       "  <tbody>\n",
       "    <tr>\n",
       "      <th>0</th>\n",
       "      <td>1</td>\n",
       "      <td>Зеленая миля</td>\n",
       "      <td>9.1</td>\n",
       "      <td>США</td>\n",
       "      <td>фэнтези/ драма</td>\n",
       "      <td>8.9</td>\n",
       "      <td>692418</td>\n",
       "    </tr>\n",
       "    <tr>\n",
       "      <th>1</th>\n",
       "      <td>2</td>\n",
       "      <td>Побег из Шоушенка</td>\n",
       "      <td>9.1</td>\n",
       "      <td>США</td>\n",
       "      <td>драма</td>\n",
       "      <td>8.9</td>\n",
       "      <td>784326</td>\n",
       "    </tr>\n",
       "    <tr>\n",
       "      <th>2</th>\n",
       "      <td>3</td>\n",
       "      <td>Властелин колец: Возвращение короля</td>\n",
       "      <td>8.6</td>\n",
       "      <td>Новая Зеландия/ США</td>\n",
       "      <td>фэнтези/ приключения</td>\n",
       "      <td>8.8</td>\n",
       "      <td>481829</td>\n",
       "    </tr>\n",
       "    <tr>\n",
       "      <th>3</th>\n",
       "      <td>4</td>\n",
       "      <td>Властелин колец: Две крепости</td>\n",
       "      <td>8.6</td>\n",
       "      <td>Новая Зеландия/ США</td>\n",
       "      <td>фэнтези/ приключения</td>\n",
       "      <td>8.8</td>\n",
       "      <td>467607</td>\n",
       "    </tr>\n",
       "    <tr>\n",
       "      <th>4</th>\n",
       "      <td>5</td>\n",
       "      <td>Властелин колец: Братство Кольца</td>\n",
       "      <td>8.6</td>\n",
       "      <td>Новая Зеландия/ США</td>\n",
       "      <td>фэнтези/ приключения</td>\n",
       "      <td>8.8</td>\n",
       "      <td>516856</td>\n",
       "    </tr>\n",
       "    <tr>\n",
       "      <th>5</th>\n",
       "      <td>6</td>\n",
       "      <td>Форрест Гамп</td>\n",
       "      <td>8.9</td>\n",
       "      <td>США</td>\n",
       "      <td>комедия/ драма</td>\n",
       "      <td>8.6</td>\n",
       "      <td>634912</td>\n",
       "    </tr>\n",
       "    <tr>\n",
       "      <th>6</th>\n",
       "      <td>7</td>\n",
       "      <td>Интерстеллар</td>\n",
       "      <td>8.6</td>\n",
       "      <td>Великобритания/ Канада</td>\n",
       "      <td>фантастика/ драма</td>\n",
       "      <td>8.6</td>\n",
       "      <td>719320</td>\n",
       "    </tr>\n",
       "    <tr>\n",
       "      <th>7</th>\n",
       "      <td>8</td>\n",
       "      <td>Король Лев</td>\n",
       "      <td>8.8</td>\n",
       "      <td>США</td>\n",
       "      <td>мультфильм/ мюзикл</td>\n",
       "      <td>8.6</td>\n",
       "      <td>535531</td>\n",
       "    </tr>\n",
       "    <tr>\n",
       "      <th>8</th>\n",
       "      <td>9</td>\n",
       "      <td>Иван Васильевич меняет профессию</td>\n",
       "      <td>8.8</td>\n",
       "      <td>СССР</td>\n",
       "      <td>фантастика/ комедия</td>\n",
       "      <td>8.6</td>\n",
       "      <td>698617</td>\n",
       "    </tr>\n",
       "    <tr>\n",
       "      <th>9</th>\n",
       "      <td>10</td>\n",
       "      <td>Тайна Коко</td>\n",
       "      <td>8.6</td>\n",
       "      <td>США</td>\n",
       "      <td>мультфильм/ фэнтези</td>\n",
       "      <td>8.6</td>\n",
       "      <td>405673</td>\n",
       "    </tr>\n",
       "  </tbody>\n",
       "</table>\n",
       "</div>"
      ],
      "text/plain": [
       "   num                             name_rus  rating_new  \\\n",
       "0    1                         Зеленая миля         9.1   \n",
       "1    2                    Побег из Шоушенка         9.1   \n",
       "2    3  Властелин колец: Возвращение короля         8.6   \n",
       "3    4        Властелин колец: Две крепости         8.6   \n",
       "4    5     Властелин колец: Братство Кольца         8.6   \n",
       "5    6                         Форрест Гамп         8.9   \n",
       "6    7                         Интерстеллар         8.6   \n",
       "7    8                           Король Лев         8.8   \n",
       "8    9     Иван Васильевич меняет профессию         8.8   \n",
       "9   10                           Тайна Коко         8.6   \n",
       "\n",
       "                   origin                 genre  rating_old  qty_views  \n",
       "0                     США        фэнтези/ драма         8.9     692418  \n",
       "1                     США                 драма         8.9     784326  \n",
       "2     Новая Зеландия/ США  фэнтези/ приключения         8.8     481829  \n",
       "3     Новая Зеландия/ США  фэнтези/ приключения         8.8     467607  \n",
       "4     Новая Зеландия/ США  фэнтези/ приключения         8.8     516856  \n",
       "5                     США        комедия/ драма         8.6     634912  \n",
       "6  Великобритания/ Канада     фантастика/ драма         8.6     719320  \n",
       "7                     США    мультфильм/ мюзикл         8.6     535531  \n",
       "8                    СССР   фантастика/ комедия         8.6     698617  \n",
       "9                     США   мультфильм/ фэнтези         8.6     405673  "
      ]
     },
     "execution_count": 2,
     "metadata": {},
     "output_type": "execute_result"
    }
   ],
   "source": [
    "data = pd.read_csv('kinopoisk rating.csv', sep=';', encoding='cp1251')\n",
    "data.head(10)"
   ]
  },
  {
   "cell_type": "markdown",
   "metadata": {},
   "source": [
    "Let's start from bootstrap comparisson"
   ]
  },
  {
   "cell_type": "code",
   "execution_count": 3,
   "metadata": {},
   "outputs": [
    {
     "name": "stdout",
     "output_type": "stream",
     "text": [
      "{'avg_metric': 8.17879999999999, 'metric_ci_lb': 8.15797999999999, 'metric_ci_ub': 8.19919999999999}\n",
      "{'avg_metric': 8.184739999999998, 'metric_ci_lb': 8.156379999999999, 'metric_ci_ub': 8.212019999999995}\n",
      "0.809\n"
     ]
    }
   ],
   "source": [
    "old, new, pvalue = bootstrap(np.mean, data.rating_old, data.rating_new, nbr_runs=1000)\n",
    "print(old)\n",
    "print(new)\n",
    "print(pvalue)"
   ]
  },
  {
   "cell_type": "markdown",
   "metadata": {},
   "source": [
    "Here we get the result that there is no significant statistical difference between ratings"
   ]
  },
  {
   "cell_type": "markdown",
   "metadata": {},
   "source": [
    "Let's compare them in the context of countries"
   ]
  },
  {
   "cell_type": "code",
   "execution_count": 4,
   "metadata": {
    "scrolled": true
   },
   "outputs": [
    {
     "name": "stdout",
     "output_type": "stream",
     "text": [
      "{'avg_metric': 8.177619090909097, 'metric_ci_lb': 8.148181818181824, 'metric_ci_ub': 8.209090909090913}\n",
      "{'avg_metric': 8.157963636363638, 'metric_ci_lb': 8.116318181818185, 'metric_ci_ub': 8.201818181818185}\n",
      "0.541\n"
     ]
    }
   ],
   "source": [
    "old, new, pvalue = bootstrap(np.mean, data.loc[data.origin == 'США', 'rating_old'], data.loc[data.origin == 'США', 'rating_new'], nbr_runs=1000)\n",
    "print(old)\n",
    "print(new)\n",
    "print(pvalue)"
   ]
  },
  {
   "cell_type": "code",
   "execution_count": null,
   "metadata": {
    "scrolled": true
   },
   "outputs": [],
   "source": [
    "old, new, pvalue = bootstrap(np.mean, data.loc[data.origin == 'СССР', 'rating_old'], data.loc[data.origin == 'СССР', 'rating_new'], nbr_runs=1000)\n",
    "print(old)\n",
    "print(new)\n",
    "print(pvalue)"
   ]
  },
  {
   "cell_type": "markdown",
   "metadata": {},
   "source": [
    "Let's compare them in the context of genres"
   ]
  },
  {
   "cell_type": "code",
   "execution_count": null,
   "metadata": {},
   "outputs": [],
   "source": [
    "old, new, pvalue = bootstrap(np.mean, data.loc[data.genre == 'фэнтези/ драма', 'rating_old'], data.loc[data.genre == 'фэнтези/ приключения', 'rating_new'], nbr_runs=1000)\n",
    "print(old)\n",
    "print(new)\n",
    "print(pvalue)"
   ]
  },
  {
   "cell_type": "code",
   "execution_count": null,
   "metadata": {},
   "outputs": [],
   "source": [
    "old, new, pvalue = bootstrap(np.mean, data.loc[data.genre == 'фэнтези/ драма', 'rating_old'], data.loc[data.genre == 'фэнтези/ приключения', 'rating_new'], nbr_runs=1000)\n",
    "print(old)\n",
    "print(new)\n",
    "print(pvalue)"
   ]
  },
  {
   "cell_type": "markdown",
   "metadata": {},
   "source": [
    "Let's move on to Mann-Whitney U-test"
   ]
  },
  {
   "cell_type": "code",
   "execution_count": null,
   "metadata": {
    "scrolled": false
   },
   "outputs": [],
   "source": [
    "st.mannwhitneyu(data.rating_old, data.rating_new)"
   ]
  },
  {
   "cell_type": "raw",
   "metadata": {},
   "source": [
    "We've used Mann-Whitney U criteria for our null hypothesis which is:\n",
    "H0 - there is no statistical difference between rating_new and rating_old\n",
    "Ha - the difference between rating_new and rating_old exists\n",
    "\n",
    "This test is used for comaring two small datasets to observe whether  the number of wins out of all pairwise contests correspond. The output pvalue is pretty high, therefore we can say that there is no statistical difference between two groups of movies. The old rating does not differ from new one."
   ]
  },
  {
   "cell_type": "markdown",
   "metadata": {},
   "source": [
    "If we compare old and new data in the US we get:"
   ]
  },
  {
   "cell_type": "code",
   "execution_count": null,
   "metadata": {},
   "outputs": [],
   "source": [
    "st.mannwhitneyu(x = data.loc[data.origin == 'США', 'rating_new'], y = data.loc[data.origin == 'США', 'rating_old'])"
   ]
  },
  {
   "cell_type": "markdown",
   "metadata": {},
   "source": [
    "Pvalue in this case gives us information that statistical difference between two groups is relevant. Old rating does differ from new rating"
   ]
  },
  {
   "cell_type": "markdown",
   "metadata": {},
   "source": [
    "If we compare old and new data in the USSR we get:"
   ]
  },
  {
   "cell_type": "code",
   "execution_count": null,
   "metadata": {},
   "outputs": [],
   "source": [
    "st.mannwhitneyu(x = data.loc[data.origin == 'СССР', 'rating_new'], y = data.loc[data.origin == 'СССР', 'rating_old'])"
   ]
  },
  {
   "cell_type": "markdown",
   "metadata": {},
   "source": [
    "Which is less than we got in the previous comparisson. The old rating differs from the new one."
   ]
  },
  {
   "cell_type": "markdown",
   "metadata": {},
   "source": [
    "Let's compare them in the context of genres"
   ]
  },
  {
   "cell_type": "code",
   "execution_count": null,
   "metadata": {},
   "outputs": [],
   "source": [
    "st.mannwhitneyu(x = data.loc[data.genre == 'фэнтези/ драма', 'rating_new'], y = data.loc[data.genre == 'фэнтези/ приключения', 'rating_old'])"
   ]
  },
  {
   "cell_type": "code",
   "execution_count": null,
   "metadata": {},
   "outputs": [],
   "source": [
    "st.mannwhitneyu(x = data.loc[data.genre == 'фэнтези/ драма', 'rating_new'], y = data.loc[data.genre == 'фэнтези/ приключения', 'rating_old'])"
   ]
  },
  {
   "cell_type": "markdown",
   "metadata": {},
   "source": [
    "The results are consistent with these two algorithms: only USSR ratings are different over time, USA and action movies are not statistically significantly different"
   ]
  }
 ],
 "metadata": {
  "colab": {
   "authorship_tag": "ABX9TyNWIYbW9WhaPJ3OK2ig0Rak",
   "provenance": [
    {
     "file_id": "1ZDp1K1nB0t6mvyjvyDFPfydu4EnMgsic",
     "timestamp": 1664378728266
    }
   ]
  },
  "kernelspec": {
   "display_name": "Python 3 (ipykernel)",
   "language": "python",
   "name": "python3"
  },
  "language_info": {
   "codemirror_mode": {
    "name": "ipython",
    "version": 3
   },
   "file_extension": ".py",
   "mimetype": "text/x-python",
   "name": "python",
   "nbconvert_exporter": "python",
   "pygments_lexer": "ipython3",
   "version": "3.9.12"
  }
 },
 "nbformat": 4,
 "nbformat_minor": 1
}
